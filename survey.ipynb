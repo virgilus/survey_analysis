{
 "cells": [
  {
   "cell_type": "markdown",
   "id": "f58b7dcc-0aa8-4dca-8ec0-c4cb3db1312b",
   "metadata": {
    "tags": [
     "en"
    ]
   },
   "source": [
    "# Survey Analysis\n",
    "\n",
    "Use the provided CSV file to perform the following operations:\n",
    "\n",
    "1. **Reading and Renaming CSV Columns.**\n",
    "    - Read the CSV file using ```pd.read_csv()``` and store it in a variable named \"df\".\n",
    "    - Rename the columns using the ```.rename()``` function, passing a dictionary to the \"columns\" parameter with old names as keys and new names as values. Choose the following names:\n",
    "        - time\n",
    "        - country\n",
    "        - capital\n",
    "        - home_city\n",
    "        - salary\n",
    "        - age_class\n",
    "        - height\n",
    "        - gender\n",
    "        - animals\n",
    "        - colour\n",
    "        \n",
    "1. **Exploration**\n",
    "    - Display the shape of the dataframe.\n",
    "    - Show the number of missing values for each column.\n",
    "    \n",
    "1. **New Import of the File**\n",
    "    - Examine the values of each column and set the best 'dtypes' (data types) for each column. Leave the date as 'string'.\n",
    "    - Use the ```pd.read_csv()``` function again but provide a mapping dictionary to the \"dtype\" parameter so that each column is encoded in the correct format. Remember to rename the columns again. You can do this in multiple steps or do everything in the ```pd.read_csv()``` function using the \"names\" and \"header\" parameters as well.\n",
    "\n",
    "1. **\"Salary\" Column**\n",
    "    - Display one or more charts to visualize the distribution of values in the column (e.g., 'kde' or 'hist' are relevant), as well as basic statistical indicators on this column.\n",
    "    - Use ```.loc[]``` to filter out outliers and generate the chart and basic statistical indicators again.\n",
    "\n",
    "1. **\"Country\" and \"City\" Columns**\n",
    "    - Display a pie chart representing the different countries present. Rectify the data using functions like ```str.upper()```, ```str.lower()```, ```.str.strip()```, or ```str.split()``` if necessary. Since this Series is not numeric, don't forget the ```.value_counts()``` function.\n",
    "    - Do the same for the \"home_city\" Series.\n",
    "\n",
    "1. **\"Salary\", \"Age_class\", \"Gender\" Columns**\n",
    "    - Group the data by \"age_class\" and calculate the mean, median, minimum, and maximum of the \"salary\" column. Remove outliers if necessary.\n",
    "    - Do the same with \"gender\".\n",
    "\n",
    "1. **\"Height\" Column**\n",
    "    - The \"height\" column is currently of type string. To perform calculations, clean it to convert it to cm (int). Create a custom function and use ```.map()``` so that each height is expressed in cm, without any characters other than numbers.\n",
    "    - Convert it to int.\n",
    "    - Examine the average height by gender.\n",
    "\n",
    "1. **Join to Retrieve Population Information**\n",
    "    - Download or directly read from Pandas the [following file](https://raw.githubusercontent.com/samayo/country-json/master/src/country-by-population.json). Store the result in a dataframe called \"pop_df\".\n",
    "    - Perform a left join between the country names and the population to retrieve this information in our main dataframe.\n",
    "\n",
    "1. **Unique List of Animals**\n",
    "    - The \"animals\" column contains different names of animals separated, theoretically, by commas. Create a new Series, which will not be added to our df, containing all the names of animals.\n",
    "        - You will likely need to use functions like ```str.split()```, ```str.strip()```, ```str.replace()```.\n",
    "        - Also note that the ```.explode()``` method changes a Series that contains iterables into a unique Series.\n",
    "        - If you want to remove empty strings, you can replace them with null values using the ```.replace('', pd.NA)``` method and then perform a ```.dropna()```.\n",
    "    - Perform a ```.value_counts()``` and generate a chart to see which animals are the most popular.\n",
    "\n",
    "1. **The \"Gender\" Column**\n",
    "    - Replace the strings \"Man\" and \"Woman\" with, respectively, 0 and 1. All other values should be NaN. You can use ```.replace()``` by providing a mapping dictionary. Or even better, use ```.map()``` by providing a mapping dictionary.\n",
    "    - Don't forget to convert the results to int and not float.\n",
    "\n",
    "1. **The \"Age_class\" Column**\n",
    "    - Generate a new column named \"age_class_mean\" that contains a float representing the average for each age class. There are several ways to do this: with a mapping dictionary, with ```.replace()```, with custom functions, etc.\n",
    "\n",
    "1. **Correlation**\n",
    "    - Calculate correlations between the following columns: 'salary', 'gender_int', 'age_class_mean'.\n",
    "        - The easiest way is to create a new df named \"corr_df\" with only these 3 columns. Since the dataframe is small, you can use ```.copy(deep=True)``` to completely separate your two dfs. This way, in case of an error, you won't modify your original df.\n",
    "    - Display relevant charts with the Seaborn library to represent these correlations and the corresponding linear regressions."
   ]
  },
  {
   "cell_type": "code",
   "execution_count": null,
   "id": "98a2365f-7413-4fed-b7cd-d35fe348822e",
   "metadata": {
    "tags": []
   },
   "outputs": [],
   "source": [
    "import pandas as pd\n",
    "import numpy as np"
   ]
  },
  {
   "cell_type": "code",
   "execution_count": null,
   "id": "5128290e-0a2e-4b69-95a6-f65de591276a",
   "metadata": {},
   "outputs": [],
   "source": [
    "# Code here !\n"
   ]
  }
 ],
 "metadata": {
  "kernelspec": {
   "display_name": "Python 3 (ipykernel)",
   "language": "python",
   "name": "python3"
  },
  "language_info": {
   "codemirror_mode": {
    "name": "ipython",
    "version": 3
   },
   "file_extension": ".py",
   "mimetype": "text/x-python",
   "name": "python",
   "nbconvert_exporter": "python",
   "pygments_lexer": "ipython3",
   "version": "3.11.0"
  }
 },
 "nbformat": 4,
 "nbformat_minor": 5
}
