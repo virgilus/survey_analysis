{
 "cells": [
  {
   "cell_type": "markdown",
   "id": "b90c9df2-9e5a-4abc-975d-dad888466201",
   "metadata": {
    "tags": [
     "en"
    ]
   },
   "source": [
    "# **Survey Analysis**\n",
    "Use the provided CSV file to perform the following operations:"
   ]
  },
  {
   "cell_type": "markdown",
   "id": "6c28d024-0176-45de-8c43-d04d2c106329",
   "metadata": {
    "tags": [
     "en"
    ]
   },
   "source": [
    "## **Reading and renaming columns from the CSV file.**\n",
    "\n",
    "- Import the \"pandas\" and \"numpy\" libraries as \"pd\" and \"np\".\n",
    "- Read the CSV file using ```pd.read_csv()``` and store it in a variable named \"df\".\n",
    "\n",
    "- Rename the columns either:\n",
    "\n",
    "    - By using the ```df.rename()``` function and passing a dictionary to the \"columns\" parameter with old names as keys and new names as values. You can generate it partly using dictionary comprehension.\n",
    "    - Or modify ```df.columns``` directly by assigning it a new list of column names.\n",
    "\n",
    "Choose the following column names:\n",
    "\n",
    "- time\n",
    "- country\n",
    "- capital\n",
    "- home_city\n",
    "- salary\n",
    "- age_class\n",
    "- height\n",
    "- gender\n",
    "- animals\n",
    "- colour"
   ]
  },
  {
   "cell_type": "code",
   "execution_count": null,
   "id": "3b95b380-040d-4905-af54-00399975b76d",
   "metadata": {},
   "outputs": [],
   "source": [
    "# Code here!\n"
   ]
  },
  {
   "cell_type": "markdown",
   "id": "c07bbb7e-7dae-4447-9972-dc23cc6bf401",
   "metadata": {
    "tags": [
     "en"
    ]
   },
   "source": [
    "## **Exploration**\n",
    "\n",
    "- Display the shape of the dataframe.\n",
    "- Show the number of missing values for each column."
   ]
  },
  {
   "cell_type": "code",
   "execution_count": null,
   "id": "2d0f356e-e7a5-48aa-b615-9f6bd30c7c93",
   "metadata": {},
   "outputs": [],
   "source": [
    "# Code here!\n"
   ]
  },
  {
   "cell_type": "markdown",
   "id": "1168fddb-76fc-4650-843d-332091eec1e0",
   "metadata": {
    "tags": [
     "en"
    ]
   },
   "source": [
    "## **New Import of the File**\n",
    "- Examine the values of each column and set the best 'dtypes' (data types) for each column. Leave the date as 'string'.\n",
    "- Use the ```pd.read_csv()``` function again but provide a mapping dictionary to the \"dtype\" parameter so that each column is encoded in the correct format. Remember to rename the columns again. You can do this: \n",
    "\n",
    "    - In multiple steps and use several lines of code.\n",
    "    - In one step using the right parameters for the ```pd.read_csv()``` function using the \"names\" parameters. Watch out because if you do so Pandas will suppose your file has no header. In that case pass 0 to the \"header\" parameter to specify that the first line is the header, or use \"skiprows\" to skip the first row."
   ]
  },
  {
   "cell_type": "code",
   "execution_count": null,
   "id": "79464adb-8a6d-479f-a3d5-f35c09639b22",
   "metadata": {},
   "outputs": [],
   "source": [
    "# Code here!\n"
   ]
  },
  {
   "cell_type": "markdown",
   "id": "13258f4f-7651-47e6-b6da-72a6751811d8",
   "metadata": {
    "tags": [
     "en"
    ]
   },
   "source": [
    "## **\"Salary\" Column**\n",
    "\n",
    "- Display one or more charts to visualize the distribution of values in the column (e.g., 'kde' or 'hist' are relevant), as well as basic statistical indicators on this column.\n",
    "- Use ```.loc[]``` to filter out outliers and generate the chart and basic statistical indicators again."
   ]
  },
  {
   "cell_type": "code",
   "execution_count": null,
   "id": "cc50051f-248f-4e89-9f88-b1ce1c55e926",
   "metadata": {},
   "outputs": [],
   "source": [
    "# Code here!\n"
   ]
  },
  {
   "cell_type": "markdown",
   "id": "ec4963a1-fd2d-4caf-be73-3d7d1586f602",
   "metadata": {
    "tags": [
     "en"
    ]
   },
   "source": [
    "## **\"country\" and \"city\" Columns**\n",
    "\n",
    "- Display a pie chart representing the different countries present. Rectify the data using functions like ```str.upper()```, ```str.lower()```, ```.str.strip()```, ```str.capitalize()``` or ```str.split()``` if necessary. Since this Series is not numeric, don't forget the ```.value_counts()``` function.\n",
    "- Do the same for the \"home_city\" Series."
   ]
  },
  {
   "cell_type": "code",
   "execution_count": null,
   "id": "a604f22e-aa98-4e40-b49a-a9b8ae4339e8",
   "metadata": {},
   "outputs": [],
   "source": [
    "# Code here!\n"
   ]
  },
  {
   "cell_type": "markdown",
   "id": "680dd877-655c-4314-8c3f-d3353c8a5d5a",
   "metadata": {
    "tags": [
     "en"
    ]
   },
   "source": [
    "## **\"salary\", \"age_class\", \"gender\" Columns**\n",
    "\n",
    "- Group the data by \"age_class\" and calculate the mean, median, minimum, and maximum of the \"salary\" column. Remove outliers if necessary.\n",
    "- Do the same with \"gender\"."
   ]
  },
  {
   "cell_type": "code",
   "execution_count": null,
   "id": "48b693a8-561f-4a3b-a608-e323b102ebba",
   "metadata": {},
   "outputs": [],
   "source": [
    "# Code here!\n"
   ]
  },
  {
   "cell_type": "markdown",
   "id": "3bd8b93b-506c-4c5e-85a0-6a6846a8c246",
   "metadata": {
    "tags": [
     "en"
    ]
   },
   "source": [
    "## **\"height\" Column**\n",
    "\n",
    "- The \"height\" column is currently of type string. To perform calculations, clean it to convert it to cm (int). Create a custom function and use ```.map()``` so that each height is expressed in cm, without any characters other than numbers.\n",
    "- Convert it to int.\n",
    "- Examine the average height by gender."
   ]
  },
  {
   "cell_type": "code",
   "execution_count": null,
   "id": "66c06d1e-39b7-4b25-a689-2005650cd965",
   "metadata": {},
   "outputs": [],
   "source": [
    "# Code here!\n"
   ]
  },
  {
   "cell_type": "markdown",
   "id": "be77ff56-20fe-4456-9fee-2ea2f31994b5",
   "metadata": {
    "tags": [
     "en"
    ]
   },
   "source": [
    "## **Join to Retrieve Population Information**\n",
    "\n",
    "- Download or directly read from Pandas the [following file](https://raw.githubusercontent.com/samayo/country-json/master/src/country-by-population.json). Store the result in a dataframe called \"pop_df\".\n",
    "- Perform a left join between the country names and the population to retrieve this information in our main dataframe."
   ]
  },
  {
   "cell_type": "code",
   "execution_count": null,
   "id": "1eb99f04-fb7f-4149-be4d-76f23839b86c",
   "metadata": {},
   "outputs": [],
   "source": [
    "# Code here!\n"
   ]
  },
  {
   "cell_type": "markdown",
   "id": "2bb410ab-787e-43d3-9448-3a4514309fff",
   "metadata": {
    "tags": [
     "en"
    ]
   },
   "source": [
    "## **Unique List of Animals**\n",
    "\n",
    "- The \"animals\" column contains different names of animals separated, theoretically, by commas. Create a new Series, which will not be added to our df, containing all the names of animals.\n",
    "\n",
    "    - You will likely need to use functions like ```str.split()```, ```str.strip()```, ```str.replace()```.\n",
    "    - Also note that the ```.explode()``` method changes a Series that contains iterables into a unique Series.\n",
    "    - If you want to remove empty strings, you can replace them with null values using the ```.replace('', pd.NA)``` method and then perform a ```.dropna()```.\n",
    "    \n",
    "- Perform a ```.value_counts()``` and generate a chart to see which animals are the most popular."
   ]
  },
  {
   "cell_type": "code",
   "execution_count": null,
   "id": "4c2290e6-cda9-4aa8-a6fe-7b2d50d9513d",
   "metadata": {},
   "outputs": [],
   "source": [
    "# Code here!\n"
   ]
  },
  {
   "cell_type": "markdown",
   "id": "73e8f1a7-3061-42d2-8104-7fa001f11152",
   "metadata": {
    "tags": [
     "en"
    ]
   },
   "source": [
    "## **The \"Gender\" Column**\n",
    "\n",
    "- Replace the strings \"Man\" and \"Woman\" with, respectively, 0 and 1. All other values should be NaN. You can use ```.replace()``` by providing a mapping dictionary. Or even better, use ```.map()``` by providing a mapping dictionary.\n",
    "\n",
    "- Don't forget to convert the results to ```int``` and not ```float```."
   ]
  },
  {
   "cell_type": "code",
   "execution_count": null,
   "id": "bb1a79e3-9d51-4bd8-a60e-13207c5ce4e7",
   "metadata": {},
   "outputs": [],
   "source": [
    "# Code here!"
   ]
  },
  {
   "cell_type": "markdown",
   "id": "573186ee-5f00-486c-9338-d081dbe3a02d",
   "metadata": {
    "tags": [
     "en"
    ]
   },
   "source": [
    "## **The \"age_class\" Column**\n",
    "- Generate a new column named \"age_class_mean\" that contains a float representing the average for each age class. There are several ways to do this:\n",
    "    \n",
    "    - With a mapping dictionary\n",
    "    - With ```.replace()```\n",
    "    - With custom functions, etc."
   ]
  },
  {
   "cell_type": "code",
   "execution_count": null,
   "id": "17b02e96-c92a-440d-aed7-f5b4efa5b889",
   "metadata": {},
   "outputs": [],
   "source": [
    "# Code here!"
   ]
  },
  {
   "cell_type": "markdown",
   "id": "73f65755-7fad-4e27-bdb4-aa7595177034",
   "metadata": {
    "tags": [
     "en"
    ]
   },
   "source": [
    "## **Correlation**\n",
    "\n",
    "- Calculate correlations between the following columns: 'salary', 'gender_int', 'age_class_mean'.\n",
    "        - The easiest way is to create a new df named \"corr_df\" with only these 3 columns. Since the dataframe is small, you can use ```.copy(deep=True)``` to completely separate your two dfs. This way, in case of an error, you won't modify your original df.\n",
    "        \n",
    "- Display relevant charts with the Seaborn library to represent these correlations and the corresponding linear regressions."
   ]
  },
  {
   "cell_type": "code",
   "execution_count": null,
   "id": "e53da44a-0eab-4000-8ac5-4aac5da61d1f",
   "metadata": {},
   "outputs": [],
   "source": [
    "# Code here!\n"
   ]
  },
  {
   "cell_type": "code",
   "execution_count": null,
   "id": "5128290e-0a2e-4b69-95a6-f65de591276a",
   "metadata": {},
   "outputs": [],
   "source": [
    "# Code here !\n"
   ]
  }
 ],
 "metadata": {
  "kernelspec": {
   "display_name": "Python 3 (ipykernel)",
   "language": "python",
   "name": "python3"
  },
  "language_info": {
   "codemirror_mode": {
    "name": "ipython",
    "version": 3
   },
   "file_extension": ".py",
   "mimetype": "text/x-python",
   "name": "python",
   "nbconvert_exporter": "python",
   "pygments_lexer": "ipython3",
   "version": "3.11.0"
  }
 },
 "nbformat": 4,
 "nbformat_minor": 5
}
